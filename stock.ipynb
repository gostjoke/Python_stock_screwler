{
 "cells": [
  {
   "cell_type": "code",
   "execution_count": 1,
   "id": "00a76b09",
   "metadata": {},
   "outputs": [],
   "source": [
    "#pip install selenium\n",
    "#pip install webdriver-manager"
   ]
  },
  {
   "cell_type": "code",
   "execution_count": 1,
   "id": "9222c91f",
   "metadata": {},
   "outputs": [],
   "source": [
    "from bs4 import BeautifulSoup\n",
    "from selenium import webdriver\n",
    "from selenium.webdriver.support.ui import Select\n",
    "from webdriver_manager.chrome import ChromeDriverManager\n",
    "import time\n",
    "import pandas as pd\n",
    "import re \n"
   ]
  },
  {
   "cell_type": "code",
   "execution_count": 20,
   "id": "f1b656d4",
   "metadata": {
    "code_folding": []
   },
   "outputs": [
    {
     "name": "stdout",
     "output_type": "stream",
     "text": [
      "\n"
     ]
    },
    {
     "name": "stderr",
     "output_type": "stream",
     "text": [
      "[WDM] - ====== WebDriver manager ======\n",
      "[WDM] - Current google-chrome version is 102.0.5005\n",
      "[WDM] - Get LATEST chromedriver version for 102.0.5005 google-chrome\n",
      "[WDM] - Driver [C:\\Users\\gostj\\.wdm\\drivers\\chromedriver\\win32\\102.0.5005.61\\chromedriver.exe] found in cache\n",
      "C:\\Users\\gostj\\AppData\\Local\\Temp/ipykernel_16064/4175927593.py:7: DeprecationWarning: executable_path has been deprecated, please pass in a Service object\n",
      "  browser = webdriver.Chrome(ChromeDriverManager().install())\n",
      "C:\\Users\\gostj\\AppData\\Local\\Temp/ipykernel_16064/4175927593.py:10: DeprecationWarning: find_element_by_name is deprecated. Please use find_element(by=By.NAME, value=name) instead\n",
      "  select_year = Select(browser.find_element_by_name(\"yy\"))\n",
      "C:\\Users\\gostj\\AppData\\Local\\Temp/ipykernel_16064/4175927593.py:13: DeprecationWarning: find_element_by_name is deprecated. Please use find_element(by=By.NAME, value=name) instead\n",
      "  select_month = Select(browser.find_element_by_name(\"mm\"))\n",
      "C:\\Users\\gostj\\AppData\\Local\\Temp/ipykernel_16064/4175927593.py:16: DeprecationWarning: find_element_by_name is deprecated. Please use find_element(by=By.NAME, value=name) instead\n",
      "  stockno = browser.find_element_by_name(\"stockNo\")  # 定位股票代碼輸入框\n"
     ]
    },
    {
     "name": "stdout",
     "output_type": "stream",
     "text": [
      "['108/07/01', '71.70', '108/07/02', '71.30', '108/07/03', '67.70', '108/07/04', '67.50', '108/07/05', '67.80', '108/07/08', '67.70', '108/07/09', '68.70', '108/07/10', '68.60', '108/07/11', '68.10', '108/07/12', '67.70', '108/07/15', '68.00', '108/07/16', '67.60', '108/07/17', '67.30', '108/07/18', '67.00', '108/07/19', '67.40', '108/07/22', '67.00', '108/07/23', '67.50', '108/07/24', '66.90', '108/07/25', '67.50', '108/07/26', '67.40', '108/07/29', '68.20', '108/07/30', '67.80', '108/07/31', '68.00', '月平均收盤價', '68.02']\n"
     ]
    }
   ],
   "source": [
    "#### not finish ###\n",
    "class Stock:\n",
    "    def __init__(self, *stock_numbers):\n",
    "        self.stock_numbers = stock_numbers\n",
    " \n",
    "    def daily(self, year, month):\n",
    "        browser = webdriver.Chrome(ChromeDriverManager().install())\n",
    "        browser.get(\"https://www.twse.com.tw/zh/page/trading/exchange/STOCK_DAY_AVG.html\")\n",
    " \n",
    "        select_year = Select(browser.find_element_by_name(\"yy\"))\n",
    "        select_year.select_by_value(year)  # 選擇傳入的年份\n",
    " \n",
    "        select_month = Select(browser.find_element_by_name(\"mm\"))\n",
    "        select_month.select_by_value(month)  # 選擇傳入的月份\n",
    " \n",
    "        stockno = browser.find_element_by_name(\"stockNo\")  # 定位股票代碼輸入框\n",
    "        stockno.send_keys(self.stock_numbers)\n",
    "        stockno.submit()\n",
    " \n",
    "        time.sleep(2) # 控制秒數\n",
    " \n",
    "        soup = BeautifulSoup(browser.page_source, \"lxml\")\n",
    " \n",
    "        table = soup.find(\"table\", {\"id\": \"report-table\"})\n",
    " \n",
    "        elements = table.find_all(\"td\", {\"class\": \"dt-head-center dt-body-center\"})\n",
    "        data = [element.getText() for element in elements]\n",
    "        \n",
    "        print(data)\n",
    "                   \n",
    "        df = pd.DataFrame(data)\n",
    "        df.to_excel(\"t.xlsx\")\n",
    "#         df.to_csv(\"stocks.csv\")   \n",
    "        \n",
    "## 建立stock 物件\n",
    "stock = Stock('2451')  # 建立Stock物件\n",
    "stock.daily(\"2019\", \"7\")  # 動態爬取指定的年月份中，股票代碼的每日收盤價\n",
    "\n",
    "\n",
    "###  not finished\n",
    "\n"
   ]
  },
  {
   "cell_type": "markdown",
   "id": "3e008653",
   "metadata": {},
   "source": [
    "# several Stocks single date"
   ]
  },
  {
   "cell_type": "code",
   "execution_count": 22,
   "id": "fd40bb8b",
   "metadata": {
    "scrolled": true
   },
   "outputs": [
    {
     "name": "stdout",
     "output_type": "stream",
     "text": [
      "\n"
     ]
    },
    {
     "name": "stderr",
     "output_type": "stream",
     "text": [
      "[WDM] - ====== WebDriver manager ======\n",
      "[WDM] - Current google-chrome version is 102.0.5005\n",
      "[WDM] - Get LATEST chromedriver version for 102.0.5005 google-chrome\n",
      "[WDM] - Driver [C:\\Users\\gostj\\.wdm\\drivers\\chromedriver\\win32\\102.0.5005.61\\chromedriver.exe] found in cache\n",
      "C:\\Users\\gostj\\AppData\\Local\\Temp/ipykernel_1532/3020402035.py:6: DeprecationWarning: executable_path has been deprecated, please pass in a Service object\n",
      "  browser = webdriver.Chrome(ChromeDriverManager().install())\n",
      "C:\\Users\\gostj\\AppData\\Local\\Temp/ipykernel_1532/3020402035.py:9: DeprecationWarning: find_element_by_name is deprecated. Please use find_element(by=By.NAME, value=name) instead\n",
      "  select_year = Select(browser.find_element_by_name(\"yy\"))\n",
      "C:\\Users\\gostj\\AppData\\Local\\Temp/ipykernel_1532/3020402035.py:12: DeprecationWarning: find_element_by_name is deprecated. Please use find_element(by=By.NAME, value=name) instead\n",
      "  select_month = Select(browser.find_element_by_name(\"mm\"))\n",
      "C:\\Users\\gostj\\AppData\\Local\\Temp/ipykernel_1532/3020402035.py:15: DeprecationWarning: find_element_by_name is deprecated. Please use find_element(by=By.NAME, value=name) instead\n",
      "  stockno = browser.find_element_by_name(\"stockNo\")  # 定位股票代碼輸入框\n"
     ]
    },
    {
     "name": "stdout",
     "output_type": "stream",
     "text": [
      "[['股票名稱', '股票代號', '日期', '收盤價', '日期', '收盤價', '日期', '收盤價', '日期', '收盤價', '日期', '收盤價', '日期', '收盤價', '日期', '收盤價', '日期', '收盤價', '日期', '收盤價', '日期', '收盤價', '日期', '收盤價', '日期', '收盤價', '日期', '收盤價', '日期', '收盤價', '日期', '收盤價', '日期', '收盤價', '日期', '收盤價', '日期', '收盤價', '日期', '收盤價', '日期', '收盤價', '日期', '收盤價', '日期', '收盤價', '日期', '收盤價', '', '月收入平均'], ('鴻海', '2317', '108/07/01', '79.40', '108/07/02', '79.10', '108/07/03', '77.50', '108/07/04', '77.70', '108/07/05', '78.20', '108/07/08', '79.00', '108/07/09', '77.90', '108/07/10', '77.90', '108/07/11', '78.20', '108/07/12', '77.60', '108/07/15', '78.10', '108/07/16', '80.00', '108/07/17', '79.30', '108/07/18', '79.00', '108/07/19', '79.30', '108/07/22', '80.60', '108/07/23', '80.90', '108/07/24', '81.30', '108/07/25', '78.60', '108/07/26', '78.40', '108/07/29', '78.40', '108/07/30', '77.80', '108/07/31', '78.60', '月平均收盤價', '78.82'), ('創見', '2451', '108/07/01', '71.70', '108/07/02', '71.30', '108/07/03', '67.70', '108/07/04', '67.50', '108/07/05', '67.80', '108/07/08', '67.70', '108/07/09', '68.70', '108/07/10', '68.60', '108/07/11', '68.10', '108/07/12', '67.70', '108/07/15', '68.00', '108/07/16', '67.60', '108/07/17', '67.30', '108/07/18', '67.00', '108/07/19', '67.40', '108/07/22', '67.00', '108/07/23', '67.50', '108/07/24', '66.90', '108/07/25', '67.50', '108/07/26', '67.40', '108/07/29', '68.20', '108/07/30', '67.80', '108/07/31', '68.00', '月平均收盤價', '68.02'), ('聯發科', '2454', '108/07/01', '314.00', '108/07/02', '319.00', '108/07/03', '317.50', '108/07/04', '319.00', '108/07/05', '321.00', '108/07/08', '314.00', '108/07/09', '313.50', '108/07/10', '318.00', '108/07/11', '322.50', '108/07/12', '318.00', '108/07/15', '314.50', '108/07/16', '314.00', '108/07/17', '310.00', '108/07/18', '302.00', '108/07/19', '304.50', '108/07/22', '308.50', '108/07/23', '314.50', '108/07/24', '308.00', '108/07/25', '313.00', '108/07/26', '313.50', '108/07/29', '319.00', '108/07/30', '325.50', '108/07/31', '314.50', '月平均收盤價', '314.70'), ('菱生', '2369', '108/07/01', '8.36', '108/07/02', '8.39', '108/07/03', '8.45', '108/07/04', '8.46', '108/07/05', '8.48', '108/07/08', '8.49', '108/07/09', '8.40', '108/07/10', '8.36', '108/07/11', '8.41', '108/07/12', '8.62', '108/07/15', '8.91', '108/07/16', '8.81', '108/07/17', '8.83', '108/07/18', '8.76', '108/07/19', '8.80', '108/07/22', '8.90', '108/07/23', '8.88', '108/07/24', '8.81', '108/07/25', '8.87', '108/07/26', '9.11', '108/07/29', '9.19', '108/07/30', '8.98', '108/07/31', '8.91', '月平均收盤價', '8.70'), ('貿聯-KY', '3665', '108/07/01', '227.00', '108/07/02', '231.00', '108/07/03', '238.50', '108/07/04', '238.50', '108/07/05', '234.50', '108/07/08', '235.00', '108/07/09', '234.00', '108/07/10', '235.00', '108/07/11', '240.50', '108/07/12', '239.50', '108/07/15', '235.00', '108/07/16', '238.00', '108/07/17', '233.50', '108/07/18', '232.00', '108/07/19', '236.50', '108/07/22', '233.00', '108/07/23', '233.50', '108/07/24', '243.50', '108/07/25', '236.00', '108/07/26', '244.50', '108/07/29', '241.50', '108/07/30', '236.50', '108/07/31', '239.00', '月平均收盤價', '236.35')]\n"
     ]
    }
   ],
   "source": [
    "class Stock:\n",
    "    def __init__(self, *stock_numbers):\n",
    "        self.stock_numbers = stock_numbers\n",
    " \n",
    "    def daily(self, year, month):\n",
    "        browser = webdriver.Chrome(ChromeDriverManager().install())\n",
    "        browser.get(\"https://www.twse.com.tw/zh/page/trading/exchange/STOCK_DAY_AVG.html\")\n",
    " \n",
    "        select_year = Select(browser.find_element_by_name(\"yy\"))\n",
    "        select_year.select_by_value(year)  # 選擇傳入的年份\n",
    " \n",
    "        select_month = Select(browser.find_element_by_name(\"mm\"))\n",
    "        select_month.select_by_value(month)  # 選擇傳入的月份\n",
    " \n",
    "        stockno = browser.find_element_by_name(\"stockNo\")  # 定位股票代碼輸入框\n",
    "\n",
    "        result = []\n",
    "        \n",
    "        titlename = [\"股票名稱\",\"股票代號\", \"日期\", \"收盤價\", \"日期\", \"收盤價\", \"日期\", \"收盤價\",\"日期\", \"收盤價\",\"日期\", \"收盤價\",\n",
    "                        \"日期\", \"收盤價\",\"日期\", \"收盤價\",\"日期\", \"收盤價\",\"日期\", \"收盤價\",\"日期\", \"收盤價\",\"日期\", \"收盤價\",\n",
    "                         \"日期\", \"收盤價\",\"日期\", \"收盤價\",\"日期\", \"收盤價\",\"日期\", \"收盤價\",\"日期\", \"收盤價\",\"日期\", \"收盤價\",\n",
    "                         \"日期\", \"收盤價\",\"日期\", \"收盤價\",\"日期\", \"收盤價\",\"日期\", \"收盤價\",\"日期\", \"收盤價\",\"日期\", \"收盤價\", \"\",\"月收入平均\"]\n",
    "        \n",
    "        result.append(titlename)\n",
    "        \n",
    "        for stock_number in self.stock_numbers:\n",
    "            stockno.clear()  # 清空股票代碼輸入框\n",
    "            stockno.send_keys(stock_number)\n",
    "            stockno.submit()\n",
    " \n",
    "            time.sleep(3)\n",
    "                        \n",
    "            soup = BeautifulSoup(browser.page_source, \"lxml\") # bs4 樹狀化 html\n",
    "     \n",
    "            table = soup.find(\"table\", {\"id\": \"report-table\"})\n",
    "        \n",
    "            stockname = soup.find_all(re.compile(\"h1\")) # re 找到並tag \"h1\"\n",
    " \n",
    "            elements = table.find_all(\"td\", {\"class\": \"dt-head-center dt-body-center\"})\n",
    "\n",
    "\n",
    "               \n",
    "        \n",
    "#             print([name.getText() for name in stockname])\n",
    "            company_name = \"\"\n",
    "            for name in stockname:\n",
    "                if name.getText().find(str(stock_number)) != -1:  # -1 不等於錯誤 # find 是找3665 如果有的話就return -1 以外的職\n",
    "                    company_name = name.getText().split()[2] # 取得第二個\n",
    "\n",
    "            data = (company_name,) + (stock_number,) + tuple(element.getText() for element in elements)\n",
    "\n",
    "\n",
    "            result.append(data)            \n",
    "\n",
    "         \n",
    "        print(result)\n",
    "        #行列互換\n",
    "        df = pd.DataFrame(result)\n",
    "        df2 = df.T\n",
    "        \n",
    "        df.to_excel(\"stocks.xlsx\")\n",
    "        df2.to_excel(\"stocks2.xlsx\")\n",
    "        #df.to_csv(\"stocks.csv\")  \n",
    "\n",
    "## 建立stock 物件\n",
    "stock = Stock('2317','2451', '2454', '2369','3665')   # 建立Stock物件 \n",
    "stock.daily(\"2019\", \"7\")  # 動態爬取指定的年月份中，股票代碼的每日收盤價"
   ]
  },
  {
   "cell_type": "markdown",
   "id": "4fd3a6d5",
   "metadata": {},
   "source": [
    "# several stock one date 2"
   ]
  },
  {
   "cell_type": "code",
   "execution_count": 29,
   "id": "2135f90e",
   "metadata": {},
   "outputs": [
    {
     "name": "stdout",
     "output_type": "stream",
     "text": [
      "\n"
     ]
    },
    {
     "name": "stderr",
     "output_type": "stream",
     "text": [
      "[WDM] - ====== WebDriver manager ======\n",
      "[WDM] - Current google-chrome version is 102.0.5005\n",
      "[WDM] - Get LATEST chromedriver version for 102.0.5005 google-chrome\n",
      "[WDM] - Driver [C:\\Users\\gostj\\.wdm\\drivers\\chromedriver\\win32\\102.0.5005.61\\chromedriver.exe] found in cache\n",
      "C:\\Users\\gostj\\AppData\\Local\\Temp/ipykernel_16064/3576516136.py:6: DeprecationWarning: executable_path has been deprecated, please pass in a Service object\n",
      "  browser = webdriver.Chrome(ChromeDriverManager().install())\n",
      "C:\\Users\\gostj\\AppData\\Local\\Temp/ipykernel_16064/3576516136.py:9: DeprecationWarning: find_element_by_name is deprecated. Please use find_element(by=By.NAME, value=name) instead\n",
      "  select_year = Select(browser.find_element_by_name(\"yy\"))\n",
      "C:\\Users\\gostj\\AppData\\Local\\Temp/ipykernel_16064/3576516136.py:12: DeprecationWarning: find_element_by_name is deprecated. Please use find_element(by=By.NAME, value=name) instead\n",
      "  select_month = Select(browser.find_element_by_name(\"mm\"))\n",
      "C:\\Users\\gostj\\AppData\\Local\\Temp/ipykernel_16064/3576516136.py:15: DeprecationWarning: find_element_by_name is deprecated. Please use find_element(by=By.NAME, value=name) instead\n",
      "  stockno = browser.find_element_by_name(\"stockNo\")  # 定位股票代碼輸入框\n"
     ]
    },
    {
     "name": "stdout",
     "output_type": "stream",
     "text": [
      "[('股票名字', '股票代號', '108/07/01', '108/07/02', '108/07/03', '108/07/04', '108/07/05', '108/07/08', '108/07/09', '108/07/10', '108/07/11', '108/07/12', '108/07/15', '108/07/16', '108/07/17', '108/07/18', '108/07/19', '108/07/22', '108/07/23', '108/07/24', '108/07/25', '108/07/26', '108/07/29', '108/07/30', '108/07/31', '月平均收盤價'), ('鴻海', '2317', '79.40', '79.10', '77.50', '77.70', '78.20', '79.00', '77.90', '77.90', '78.20', '77.60', '78.10', '80.00', '79.30', '79.00', '79.30', '80.60', '80.90', '81.30', '78.60', '78.40', '78.40', '77.80', '78.60', '78.82'), ('創見', '2451', '71.70', '71.30', '67.70', '67.50', '67.80', '67.70', '68.70', '68.60', '68.10', '67.70', '68.00', '67.60', '67.30', '67.00', '67.40', '67.00', '67.50', '66.90', '67.50', '67.40', '68.20', '67.80', '68.00', '68.02'), ('聯發科', '2454', '314.00', '319.00', '317.50', '319.00', '321.00', '314.00', '313.50', '318.00', '322.50', '318.00', '314.50', '314.00', '310.00', '302.00', '304.50', '308.50', '314.50', '308.00', '313.00', '313.50', '319.00', '325.50', '314.50', '314.70'), ('菱生', '2369', '8.36', '8.39', '8.45', '8.46', '8.48', '8.49', '8.40', '8.36', '8.41', '8.62', '8.91', '8.81', '8.83', '8.76', '8.80', '8.90', '8.88', '8.81', '8.87', '9.11', '9.19', '8.98', '8.91', '8.70'), ('貿聯-KY', '3665', '227.00', '231.00', '238.50', '238.50', '234.50', '235.00', '234.00', '235.00', '240.50', '239.50', '235.00', '238.00', '233.50', '232.00', '236.50', '233.00', '233.50', '243.50', '236.00', '244.50', '241.50', '236.50', '239.00', '236.35')]\n"
     ]
    }
   ],
   "source": [
    "class Stock:\n",
    "    def __init__(self, *stock_numbers):\n",
    "        self.stock_numbers = stock_numbers\n",
    " \n",
    "    def daily(self, year, month):\n",
    "        browser = webdriver.Chrome(ChromeDriverManager().install())\n",
    "        browser.get(\"https://www.twse.com.tw/zh/page/trading/exchange/STOCK_DAY_AVG.html\")\n",
    " \n",
    "        select_year = Select(browser.find_element_by_name(\"yy\"))\n",
    "        select_year.select_by_value(year)  # 選擇傳入的年份\n",
    " \n",
    "        select_month = Select(browser.find_element_by_name(\"mm\"))\n",
    "        select_month.select_by_value(month)  # 選擇傳入的月份\n",
    " \n",
    "        stockno = browser.find_element_by_name(\"stockNo\")  # 定位股票代碼輸入框\n",
    "\n",
    "        result = []\n",
    "        \n",
    "#         titlename = [\"股票名稱\",\"股票代號\", \"日期\", \"收盤價\", \"日期\", \"收盤價\", \"日期\", \"收盤價\",\"日期\", \"收盤價\",\"日期\", \"收盤價\",\n",
    "#                         \"日期\", \"收盤價\",\"日期\", \"收盤價\",\"日期\", \"收盤價\",\"日期\", \"收盤價\",\"日期\", \"收盤價\",\"日期\", \"收盤價\",\n",
    "#                          \"日期\", \"收盤價\",\"日期\", \"收盤價\",\"日期\", \"收盤價\",\"日期\", \"收盤價\",\"日期\", \"收盤價\",\"日期\", \"收盤價\",\n",
    "#                          \"日期\", \"收盤價\",\"日期\", \"收盤價\",\"日期\", \"收盤價\",\"日期\", \"收盤價\",\"日期\", \"收盤價\",\"日期\", \"收盤價\", \"\",\"月收入平均\"]\n",
    "    \n",
    "        \n",
    "#         result.append(titlename)\n",
    "        N = 1 # use to count 1 time for appending date title\n",
    "    \n",
    "        for stock_number in self.stock_numbers:\n",
    "            stockno.clear()  # 清空股票代碼輸入框\n",
    "            stockno.send_keys(stock_number)\n",
    "            stockno.submit()\n",
    " \n",
    "            time.sleep(3)\n",
    "                        \n",
    "            soup = BeautifulSoup(browser.page_source, \"lxml\") # bs4 樹狀化 html\n",
    "     \n",
    "            table = soup.find(\"table\", {\"id\": \"report-table\"})\n",
    "        \n",
    "            stockname = soup.find_all(re.compile(\"h1\")) # re 找到並tag \"h1\"\n",
    " \n",
    "            elements = table.find_all(\"td\", {\"class\": \"dt-head-center dt-body-center\"})\n",
    "            \n",
    "            element2 = tuple(element.getText() for element in elements)\n",
    "####日期 append\n",
    "            dateag = element2[0:49:2] #日期與平均價\n",
    "            \n",
    "            datetitle = (\"股票名字\",) + (\"股票代號\",) + dateag\n",
    "                    \n",
    "            if N > 0:\n",
    "                result.append(datetitle)\n",
    "                N = N - 1\n",
    "            else:\n",
    "                pass\n",
    "####                                \n",
    "            \n",
    "            priceag =element2[1:49:2] #價格\n",
    "\n",
    "            company_name = \"\"\n",
    "            for name in stockname:\n",
    "                if name.getText().find(str(stock_number)) != -1:  # -1 不等於錯誤 # find 是找3665 如果有的話就return -1 以外的職\n",
    "                    company_name = name.getText().split()[2] # 取得第二個\n",
    "\n",
    "                    \n",
    "            data = (company_name,) + (stock_number,) + priceag\n",
    "\n",
    "\n",
    "            result.append(data)            \n",
    "\n",
    "         \n",
    "        print(result)\n",
    "        #行列互換\n",
    "        df = pd.DataFrame(result)\n",
    "        df2 = df.T\n",
    "        \n",
    "        df.to_excel(\"stocks3.xlsx\")\n",
    "        df2.to_excel(\"stocks4.xlsx\")\n",
    "#         #df.to_csv(\"stocks.csv\")  \n",
    "\n",
    "## 建立stock 物件\n",
    "stock = Stock('2317','2451', '2454', '2369','3665')   # 建立Stock物件\n",
    "stock.daily(\"2019\", \"7\")  # 動態爬取指定的年月份中，股票代碼的每日收盤價"
   ]
  },
  {
   "cell_type": "markdown",
   "id": "ecd78a92",
   "metadata": {},
   "source": [
    "# 以鴻海抓時間  one stock whole year months # not finished"
   ]
  },
  {
   "cell_type": "code",
   "execution_count": 6,
   "id": "ee1d9c6d",
   "metadata": {
    "code_folding": []
   },
   "outputs": [
    {
     "name": "stdout",
     "output_type": "stream",
     "text": [
      "\n"
     ]
    },
    {
     "name": "stderr",
     "output_type": "stream",
     "text": [
      "[WDM] - ====== WebDriver manager ======\n",
      "[WDM] - Current google-chrome version is 102.0.5005\n",
      "[WDM] - Get LATEST chromedriver version for 102.0.5005 google-chrome\n",
      "[WDM] - Driver [C:\\Users\\gostj\\.wdm\\drivers\\chromedriver\\win32\\102.0.5005.61\\chromedriver.exe] found in cache\n",
      "C:\\Users\\gostj\\AppData\\Local\\Temp\\ipykernel_24236\\3723058092.py:6: DeprecationWarning: executable_path has been deprecated, please pass in a Service object\n",
      "  browser = webdriver.Chrome(ChromeDriverManager().install())\n",
      "C:\\Users\\gostj\\AppData\\Local\\Temp\\ipykernel_24236\\3723058092.py:9: DeprecationWarning: find_element_by_name is deprecated. Please use find_element(by=By.NAME, value=name) instead\n",
      "  select_year = Select(browser.find_element_by_name(\"yy\"))\n",
      "C:\\Users\\gostj\\AppData\\Local\\Temp\\ipykernel_24236\\3723058092.py:12: DeprecationWarning: find_element_by_name is deprecated. Please use find_element(by=By.NAME, value=name) instead\n",
      "  stockno = browser.find_element_by_name(\"stockNo\")  # 定位股票代碼輸入框\n",
      "C:\\Users\\gostj\\AppData\\Local\\Temp\\ipykernel_24236\\3723058092.py:14: DeprecationWarning: find_element_by_name is deprecated. Please use find_element(by=By.NAME, value=name) instead\n",
      "  monthno = browser.find_element_by_name(\"mm\")\n",
      "C:\\Users\\gostj\\AppData\\Local\\Temp\\ipykernel_24236\\3723058092.py:33: DeprecationWarning: find_element_by_name is deprecated. Please use find_element(by=By.NAME, value=name) instead\n",
      "  select_month = Select(browser.find_element_by_name(\"mm\"))\n"
     ]
    },
    {
     "name": "stdout",
     "output_type": "stream",
     "text": [
      "[('股票名字', '股票代號', '108/01/02', '108/01/03', '108/01/04', '108/01/07', '108/01/08', '108/01/09', '108/01/10', '108/01/11', '108/01/14', '108/01/15', '108/01/16', '108/01/17', '108/01/18', '108/01/21', '108/01/22', '108/01/23', '108/01/24', '108/01/25', '108/01/28', '108/01/29', '108/01/30', '月平均收盤價'), ('鴻海', '2317', '70.10', '68.90', '67.60', '69.30', '68.60', '69.90', '69.30', '69.40', '68.70', '70.30', '70.20', '70.40', '70.80', '71.20', '70.70', '69.70', '70.00', '70.70', '70.80', '69.90', '70.00', '69.83'), ('股票名字', '股票代號', '108/02/11', '108/02/12', '108/02/13', '108/02/14', '108/02/15', '108/02/18', '108/02/19', '108/02/20', '108/02/21', '108/02/22', '108/02/25', '108/02/26', '108/02/27', '月平均收盤價'), ('鴻海', '2317', '69.90', '72.00', '72.00', '71.40', '70.30', '71.00', '72.00', '73.20', '73.80', '73.50', '73.40', '72.80', '72.70', '72.15'), ('股票名字', '股票代號', '108/03/04', '108/03/05', '108/03/06', '108/03/07', '108/03/08', '108/03/11', '108/03/12', '108/03/13', '108/03/14', '108/03/15', '108/03/18', '108/03/19', '108/03/20', '108/03/21', '108/03/22', '108/03/25', '108/03/26', '108/03/27', '108/03/28', '108/03/29', '月平均收盤價'), ('鴻海', '2317', '72.20', '71.90', '72.50', '71.60', '70.70', '70.40', '71.20', '70.70', '71.10', '70.60', '72.00', '72.30', '72.40', '73.00', '73.00', '71.20', '71.80', '71.90', '71.80', '73.50', '71.79'), ('股票名字', '股票代號', '108/04/01', '108/04/02', '108/04/03', '108/04/08', '108/04/09', '108/04/10', '108/04/11', '108/04/12', '108/04/15', '108/04/16', '108/04/17', '108/04/18', '108/04/19', '108/04/22', '108/04/23', '108/04/24', '108/04/25', '108/04/26', '108/04/29', '108/04/30', '月平均收盤價'), ('鴻海', '2317', '80.80', '82.00', '81.90', '82.40', '82.50', '83.00', '83.80', '86.50', '89.30', '89.90', '91.80', '91.60', '88.90', '87.80', '88.30', '86.90', '86.80', '87.40', '87.80', '86.90', '86.32'), ('股票名字', '股票代號', '108/05/02', '108/05/03', '108/05/06', '108/05/07', '108/05/08', '108/05/09', '108/05/10', '108/05/13', '108/05/14', '108/05/15', '108/05/16', '108/05/17', '108/05/20', '108/05/21', '108/05/22', '108/05/23', '108/05/24', '108/05/27', '108/05/28', '108/05/29', '108/05/30', '108/05/31', '月平均收盤價'), ('鴻海', '2317', '86.90', '88.20', '84.90', '86.60', '85.90', '84.30', '83.70', '81.20', '79.70', '77.80', '75.90', '74.70', '75.00', '75.00', '74.00', '71.50', '71.40', '71.40', '71.20', '72.20', '73.40', '73.90', '78.13'), ('股票名字', '股票代號', '108/06/03', '108/06/04', '108/06/05', '108/06/06', '108/06/10', '108/06/11', '108/06/12', '108/06/13', '108/06/14', '108/06/17', '108/06/18', '108/06/19', '108/06/20', '108/06/21', '108/06/24', '108/06/25', '108/06/26', '108/06/27', '108/06/28', '月平均收盤價'), ('鴻海', '2317', '73.40', '71.80', '71.00', '71.10', '72.10', '72.40', '73.70', '74.20', '75.10', '76.40', '75.90', '77.20', '77.70', '76.80', '77.10', '76.40', '76.30', '77.40', '77.40', '74.92'), ('股票名字', '股票代號', '108/07/01', '108/07/02', '108/07/03', '108/07/04', '108/07/05', '108/07/08', '108/07/09', '108/07/10', '108/07/11', '108/07/12', '108/07/15', '108/07/16', '108/07/17', '108/07/18', '108/07/19', '108/07/22', '108/07/23', '108/07/24', '108/07/25', '108/07/26', '108/07/29', '108/07/30', '108/07/31', '月平均收盤價'), ('鴻海', '2317', '79.40', '79.10', '77.50', '77.70', '78.20', '79.00', '77.90', '77.90', '78.20', '77.60', '78.10', '80.00', '79.30', '79.00', '79.30', '80.60', '80.90', '81.30', '78.60', '78.40', '78.40', '77.80', '78.60', '78.82'), ('股票名字', '股票代號', '108/08/01', '108/08/02', '108/08/05', '108/08/06', '108/08/07', '108/08/08', '108/08/12', '108/08/13', '108/08/14', '108/08/15', '108/08/16', '108/08/19', '108/08/20', '108/08/21', '108/08/22', '108/08/23', '108/08/26', '108/08/27', '108/08/28', '108/08/29', '108/08/30', '月平均收盤價'), ('鴻海', '2317', '77.90', '75.50', '72.80', '73.30', '72.90', '73.10', '73.70', '72.90', '72.60', '71.60', '72.00', '72.40', '72.40', '73.50', '73.90', '73.30', '72.00', '72.20', '72.40', '71.90', '74.20', '73.17'), ('股票名字', '股票代號', '108/09/02', '108/09/03', '108/09/04', '108/09/05', '108/09/06', '108/09/09', '108/09/10', '108/09/11', '108/09/12', '108/09/16', '108/09/17', '108/09/18', '108/09/19', '108/09/20', '108/09/23', '108/09/24', '108/09/25', '108/09/26', '108/09/27', '月平均收盤價'), ('鴻海', '2317', '74.00', '73.60', '74.30', '74.90', '75.00', '74.70', '74.10', '74.50', '76.00', '76.00', '74.60', '74.40', '73.50', '74.50', '74.70', '74.90', '74.80', '74.00', '73.20', '74.51'), ('股票名字', '股票代號', '108/10/01', '108/10/02', '108/10/03', '108/10/04', '108/10/07', '108/10/08', '108/10/09', '108/10/14', '108/10/15', '108/10/16', '108/10/17', '108/10/18', '108/10/21', '108/10/22', '108/10/23', '108/10/24', '108/10/25', '108/10/28', '108/10/29', '108/10/30', '108/10/31', '月平均收盤價'), ('鴻海', '2317', '72.60', '72.30', '72.00', '72.70', '73.40', '74.00', '72.90', '74.50', '74.70', '75.00', '77.20', '76.90', '77.60', '79.50', '80.50', '80.50', '80.20', '80.10', '80.80', '80.20', '80.60', '76.58'), ('股票名字', '股票代號', '108/11/01', '108/11/04', '108/11/05', '108/11/06', '108/11/07', '108/11/08', '108/11/11', '108/11/12', '108/11/13', '108/11/14', '108/11/15', '108/11/18', '108/11/19', '108/11/20', '108/11/21', '108/11/22', '108/11/25', '108/11/26', '108/11/27', '108/11/28', '108/11/29', '月平均收盤價'), ('鴻海', '2317', '84.80', '89.00', '90.00', '90.40', '90.80', '90.90', '87.90', '91.00', '89.70', '89.30', '90.10', '90.50', '92.80', '91.90', '92.50', '91.40', '89.60', '89.90', '90.60', '89.80', '88.50', '90.07'), ('股票名字', '股票代號', '108/12/02', '108/12/03', '108/12/04', '108/12/05', '108/12/06', '108/12/09', '108/12/10', '108/12/11', '108/12/12', '108/12/13', '108/12/16', '108/12/17', '108/12/18', '108/12/19', '108/12/20', '108/12/23', '108/12/24', '108/12/25', '108/12/26', '108/12/27', '108/12/30', '108/12/31', '月平均收盤價'), ('鴻海', '2317', '88.60', '90.00', '89.50', '89.90', '90.50', '91.00', '90.30', '91.30', '91.00', '91.00', '91.60', '91.60', '92.40', '92.20', '91.10', '91.50', '90.90', '91.00', '90.80', '91.50', '90.90', '90.80', '90.88')]\n"
     ]
    }
   ],
   "source": [
    "class Stock:\n",
    "    def __init__(self, stock_numbers): #* 有星號可以放多重\n",
    "        self.stock_numbers = stock_numbers\n",
    " \n",
    "    def daily(self, year):\n",
    "        browser = webdriver.Chrome(ChromeDriverManager().install())\n",
    "        browser.get(\"https://www.twse.com.tw/zh/page/trading/exchange/STOCK_DAY_AVG.html\")\n",
    " \n",
    "        select_year = Select(browser.find_element_by_name(\"yy\"))\n",
    "        select_year.select_by_value(year)  # 選擇傳入的年份 \n",
    " \n",
    "        stockno = browser.find_element_by_name(\"stockNo\")  # 定位股票代碼輸入框\n",
    "        \n",
    "        monthno = browser.find_element_by_name(\"mm\")\n",
    "        \n",
    "        stockno.send_keys(self.stock_numbers)\n",
    "\n",
    "        \n",
    "        result = []\n",
    "        \n",
    "#         titlename = [\"股票名稱\",\"股票代號\", \"日期\", \"收盤價\", \"日期\", \"收盤價\", \"日期\", \"收盤價\",\"日期\", \"收盤價\",\"日期\", \"收盤價\",\n",
    "#                         \"日期\", \"收盤價\",\"日期\", \"收盤價\",\"日期\", \"收盤價\",\"日期\", \"收盤價\",\"日期\", \"收盤價\",\"日期\", \"收盤價\",\n",
    "#                          \"日期\", \"收盤價\",\"日期\", \"收盤價\",\"日期\", \"收盤價\",\"日期\", \"收盤價\",\"日期\", \"收盤價\",\"日期\", \"收盤價\",\n",
    "#                          \"日期\", \"收盤價\",\"日期\", \"收盤價\",\"日期\", \"收盤價\",\"日期\", \"收盤價\",\"日期\", \"收盤價\",\"日期\", \"收盤價\", \"\",\"月收入平均\"]\n",
    "    \n",
    "        \n",
    "#         result.append(titlename)\n",
    "#         N = 1 # use to count 1 time for appending date title\n",
    "\n",
    "       \n",
    "        for month in range(1, 13):\n",
    "            \n",
    "            select_month = Select(browser.find_element_by_name(\"mm\"))\n",
    "            select_month.select_by_value(str(month))  # 選擇傳入的月份            \n",
    "            stockno.submit()\n",
    "            \n",
    "            time.sleep(3)\n",
    "                        \n",
    "            soup = BeautifulSoup(browser.page_source, \"lxml\") # bs4 樹狀化 html\n",
    "     \n",
    "            table = soup.find(\"table\", {\"id\": \"report-table\"})\n",
    "        \n",
    "            stockname = soup.find_all(re.compile(\"h1\")) # re 找到並tag \"h1\"\n",
    " \n",
    "            elements = table.find_all(\"td\", {\"class\": \"dt-head-center dt-body-center\"})\n",
    "            \n",
    "            element2 = tuple(element.getText() for element in elements)\n",
    "####日期 append\n",
    "            dateag = element2[0:49:2] #日期與平均價\n",
    "            \n",
    "            datetitle = (\"股票名字\",) + (\"股票代號\",) + dateag\n",
    "                    \n",
    "            result.append(datetitle)\n",
    "\n",
    "####                                \n",
    "            \n",
    "            priceag =element2[1:49:2] #價格\n",
    "\n",
    "            company_name = \"\"\n",
    "            for name in stockname:\n",
    "                if name.getText().find(str(self.stock_numbers)) != -1:  # -1 不等於錯誤 # find 是找3665 如果有的話就return -1 以外的職\n",
    "                    company_name = name.getText().split()[2] # 取得第二個\n",
    "                    \n",
    "            data = (company_name,) + (self.stock_numbers,) + priceag\n",
    "\n",
    "            result.append(data)            \n",
    "\n",
    "         \n",
    "        print(result)\n",
    "        #行列互換\n",
    "        df = pd.DataFrame(result)\n",
    "        df2 = df.T\n",
    "        \n",
    "        df.to_excel(\"stocks5.xlsx\")\n",
    "        df2.to_excel(\"stocks6.xlsx\")\n",
    "#         #df.to_csv(\"stocks.csv\")  \n",
    "\n",
    "## 建立stock 物件\n",
    "stock = Stock(\"2317\")   # 建立Stock物件\n",
    "stock.daily(\"2019\")  # 動態爬取指定的年月份中，股票代碼的每日收盤價"
   ]
  },
  {
   "cell_type": "markdown",
   "id": "b39adf6b",
   "metadata": {
    "scrolled": false
   },
   "source": [
    "class Stock:\n",
    "    def __init__(self, *stock_numbers):\n",
    "        self.stock_numbers = stock_numbers\n",
    "        \n",
    "        \n",
    "        \n",
    "    def year(self, year):\n",
    "        self.stock_years = year\n",
    "        \n",
    "        browser = webdriver.Chrome(ChromeDriverManager().install())\n",
    "        browser.get(\"https://www.twse.com.tw/zh/page/trading/exchange/STOCK_DAY_AVG.html\")\n",
    "       \n",
    "        select_years = Select(browser.find_element_by_name(\"yy\"))\n",
    "        select_years.select_by_value(year)  # 選擇傳入的年份\n",
    "        selectyy = browser.find_element_by_name(\"yy\")\n",
    "        \n",
    "    def month(self, month):\n",
    "        self.stock_months = month\n",
    "#         browser = webdriver.Chrome(ChromeDriverManager().install())\n",
    "#         browser.get(\"https://www.twse.com.tw/zh/page/trading/exchange/STOCK_DAY_AVG.html\")\n",
    "        \n",
    "        select_months = Select(browser.find_element_by_name(\"mm\"))\n",
    "        select_months.select_by_value(month)  # 選擇傳入的月份\n",
    "        selectmm = browser.find_element_by_name(\"mm\")\n",
    "        \n",
    "        stockno = browser.find_element_by_name(\"stockNo\")  # 定位股票代碼輸入框\n",
    "\n",
    "        result = []\n",
    "        for stock_number in self.stock_numbers:\n",
    "            \n",
    "            stockno.clear()  # 清空股票代碼輸入框\n",
    "            stockno.send_keys(stock_number)\n",
    "            stockno.submit()\n",
    "            \n",
    "            for select_year in self.stock__years:\n",
    "                selectyy.clear() #清空年\n",
    "                selectyy.send_keys(select_year)\n",
    "                selectyy.submit()\n",
    "                \n",
    "                for select_month in self.stock__months:\n",
    "                    selectmm.clear() #清空月\n",
    "                    selectmm.send_keys(select_months)\n",
    "                    selectmm.submit()\n",
    " \n",
    "                    soup = BeautifulSoup(browser.page_source, \"lxml\")\n",
    "         \n",
    "                    table = soup.find(\"table\", {\"id\": \"report-table\"})\n",
    " \n",
    "                    elements = table.find_all(\"td\", {\"class\": \"dt-head-center dt-body-center\"})\n",
    "\n",
    "                    data =  (stock_number,) + tuple(element.getText() for element in elements)\n",
    " \n",
    "\n",
    "                    result.append(data)\n",
    "            \n",
    "\n",
    "        print(result)\n",
    "        #行列互換\n",
    "        df = pd.DataFrame(result)\n",
    "        df2 = df.T\n",
    "        \n",
    "        df.to_excel(\"stocksyear.xlsx\")\n",
    "        df2.to_excel(\"stocksyear2.xlsx\")\n",
    "        #df.to_csv(\"stocks.csv\")  \n",
    "\n",
    "## 建立stock 物件\n",
    "stock = Stock('3665')   # 建立Stock物件\n",
    "stock.year(\"2019\")  # 動態爬取指定的年月份中，股票代碼的每日收盤價\n",
    "stock.month(\"1\", \"2\")"
   ]
  },
  {
   "cell_type": "code",
   "execution_count": null,
   "id": "0820b0e5",
   "metadata": {},
   "outputs": [],
   "source": []
  },
  {
   "cell_type": "code",
   "execution_count": null,
   "id": "a15f64e0",
   "metadata": {},
   "outputs": [],
   "source": []
  }
 ],
 "metadata": {
  "kernelspec": {
   "display_name": "Python 3 (ipykernel)",
   "language": "python",
   "name": "python3"
  },
  "language_info": {
   "codemirror_mode": {
    "name": "ipython",
    "version": 3
   },
   "file_extension": ".py",
   "mimetype": "text/x-python",
   "name": "python",
   "nbconvert_exporter": "python",
   "pygments_lexer": "ipython3",
   "version": "3.9.7"
  },
  "toc": {
   "base_numbering": 1,
   "nav_menu": {},
   "number_sections": true,
   "sideBar": true,
   "skip_h1_title": false,
   "title_cell": "Table of Contents",
   "title_sidebar": "Contents",
   "toc_cell": false,
   "toc_position": {},
   "toc_section_display": true,
   "toc_window_display": false
  },
  "varInspector": {
   "cols": {
    "lenName": 16,
    "lenType": 16,
    "lenVar": 40
   },
   "kernels_config": {
    "python": {
     "delete_cmd_postfix": "",
     "delete_cmd_prefix": "del ",
     "library": "var_list.py",
     "varRefreshCmd": "print(var_dic_list())"
    },
    "r": {
     "delete_cmd_postfix": ") ",
     "delete_cmd_prefix": "rm(",
     "library": "var_list.r",
     "varRefreshCmd": "cat(var_dic_list()) "
    }
   },
   "types_to_exclude": [
    "module",
    "function",
    "builtin_function_or_method",
    "instance",
    "_Feature"
   ],
   "window_display": false
  }
 },
 "nbformat": 4,
 "nbformat_minor": 5
}
